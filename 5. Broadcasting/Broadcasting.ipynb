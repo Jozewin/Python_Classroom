{
 "cells": [
  {
   "cell_type": "code",
   "execution_count": 1,
   "id": "e3af5974-974d-4f78-a4b4-478bd75f7531",
   "metadata": {},
   "outputs": [],
   "source": [
    "#Broadcasting functions\n",
    "import numpy as np"
   ]
  },
  {
   "cell_type": "code",
   "execution_count": 2,
   "id": "a404405a-f8c8-4f1c-94db-ce405cdeccc2",
   "metadata": {},
   "outputs": [
    {
     "data": {
      "text/plain": [
       "array([5, 6, 7])"
      ]
     },
     "execution_count": 2,
     "metadata": {},
     "output_type": "execute_result"
    }
   ],
   "source": [
    "#Basic array operations\n",
    "a = np.array([0, 1, 2])\n",
    "b = np.array([5, 5, 5])\n",
    "a + b"
   ]
  },
  {
   "cell_type": "code",
   "execution_count": 4,
   "id": "2f94fdb3-e212-4d4c-adc6-149d52ac75cc",
   "metadata": {},
   "outputs": [
    {
     "data": {
      "text/plain": [
       "array([[1., 1., 1.],\n",
       "       [1., 1., 1.],\n",
       "       [1., 1., 1.]])"
      ]
     },
     "execution_count": 4,
     "metadata": {},
     "output_type": "execute_result"
    }
   ],
   "source": [
    "#Broadcasting allows to perform operatons between different sizes of arrays\n",
    "M = np.ones((3, 3))\n",
    "M"
   ]
  },
  {
   "cell_type": "code",
   "execution_count": 5,
   "id": "4f0b7a2b-eb79-477e-898a-2259985db3fe",
   "metadata": {},
   "outputs": [
    {
     "data": {
      "text/plain": [
       "array([[1., 2., 3.],\n",
       "       [1., 2., 3.],\n",
       "       [1., 2., 3.]])"
      ]
     },
     "execution_count": 5,
     "metadata": {},
     "output_type": "execute_result"
    }
   ],
   "source": [
    "#a array is being streched into 3 rows so that it can compute with M array which is 3x3 \n",
    "#matrix\n",
    "M+a"
   ]
  },
  {
   "cell_type": "code",
   "execution_count": 9,
   "id": "459cf9c8-8936-4b26-af0c-9f54ecd5d0b9",
   "metadata": {},
   "outputs": [
    {
     "name": "stdout",
     "output_type": "stream",
     "text": [
      "array a: [0 1 2]\n",
      "array b: [[0]\n",
      " [1]\n",
      " [2]]\n"
     ]
    },
    {
     "data": {
      "text/plain": [
       "array([[0, 1, 2],\n",
       "       [1, 2, 3],\n",
       "       [2, 3, 4]])"
      ]
     },
     "execution_count": 9,
     "metadata": {},
     "output_type": "execute_result"
    }
   ],
   "source": [
    "a = np.arange(3)\n",
    "b = np.array([[0],\n",
    "       [1],\n",
    "       [2]])\n",
    "print(\"array a:\",a)\n",
    "print(\"array b:\", b)\n",
    "b+a\n",
    "\n",
    "#In the above example both of the array is in uncommon shape so \n",
    "#both of the array is stretched into a common shape"
   ]
  },
  {
   "cell_type": "code",
   "execution_count": null,
   "id": "aeb50401-9387-40aa-9c55-b1416e87ab72",
   "metadata": {},
   "outputs": [],
   "source": [
    "#Rules of Broadcasting\n",
    "\n",
    "    # Rule 1: If the two arrays differ in their number of dimensions, the shape of the one with fewer dimensions is padded with ones on its leading (left) side.\n",
    "    # Rule 2: If the shape of the two arrays does not match in any dimension, the array with shape equal to 1 in that dimension is stretched to match the other shape.\n",
    "    # Rule 3: If in any dimension the sizes disagree and neither is equal to 1, an error is raised.\n"
   ]
  },
  {
   "cell_type": "code",
   "execution_count": 10,
   "id": "1e3eabad-d932-4f91-96bd-86aa89510ba0",
   "metadata": {},
   "outputs": [
    {
     "name": "stdout",
     "output_type": "stream",
     "text": [
      "[[5 6 7]\n",
      " [6 7 8]\n",
      " [7 8 9]]\n"
     ]
    }
   ],
   "source": [
    "# Rule 1: If the arrays do not have the same rank, pad the smaller shape with ones on its left side.\n",
    "\n",
    "a = np.array([1, 2, 3])  # Shape: (3,) -> Shape : (1,3)\n",
    "b = np.array([[4], [5], [6]])  # Shape: (3, 1)\n",
    "\n",
    "# Broadcasting a 1D array to a 2D array\n",
    "result = a + b\n",
    "\n",
    "print(result)"
   ]
  },
  {
   "cell_type": "code",
   "execution_count": 11,
   "id": "9eca710c-de0a-488b-a538-4732ee62916e",
   "metadata": {},
   "outputs": [
    {
     "name": "stdout",
     "output_type": "stream",
     "text": [
      "[[11 22 33]\n",
      " [14 25 36]]\n"
     ]
    }
   ],
   "source": [
    "# Rule 2: Compare the sizes of each dimension. If they are not equal, one of them must be 1.\n",
    "a = np.array([[1, 2, 3], [4, 5, 6]])  # Shape: (2, 3)\n",
    "b = np.array([10, 20, 30])  # Shape: (3,) -> Shapre: (2, 3)\n",
    "\n",
    "# Broadcasting a 2D array to a 1D array\n",
    "result = a + b\n",
    "\n",
    "print(result)"
   ]
  },
  {
   "cell_type": "code",
   "execution_count": 15,
   "id": "c65aa382-27f9-4fe4-ac74-50463402c237",
   "metadata": {},
   "outputs": [],
   "source": [
    "\n",
    "# Rule 3: If a dimension has size greater than 1 and both sizes are different, an error is raised.\n",
    "a = np.array([[1, 2, 3], [4, 5, 6]])  # Shape: (2, 3)\n",
    "b = np.array([[10, 20], [30, 40]])  # Shape: (2, 2)\n",
    "\n",
    "# Broadcasting arrays with incompatible shapes (raises an error)\n",
    "result = a + b"
   ]
  },
  {
   "cell_type": "code",
   "execution_count": null,
   "id": "cdabb2a6-aff9-4319-9e27-5c2f8c0c9c2c",
   "metadata": {},
   "outputs": [],
   "source": []
  }
 ],
 "metadata": {
  "kernelspec": {
   "display_name": "Python 3 (ipykernel)",
   "language": "python",
   "name": "python3"
  },
  "language_info": {
   "codemirror_mode": {
    "name": "ipython",
    "version": 3
   },
   "file_extension": ".py",
   "mimetype": "text/x-python",
   "name": "python",
   "nbconvert_exporter": "python",
   "pygments_lexer": "ipython3",
   "version": "3.10.12"
  }
 },
 "nbformat": 4,
 "nbformat_minor": 5
}
