{
 "cells": [
  {
   "cell_type": "code",
   "execution_count": 1,
   "id": "ee5110a8-d971-4414-bc11-6267a02abe74",
   "metadata": {},
   "outputs": [],
   "source": [
    "import numpy as np\n"
   ]
  },
  {
   "cell_type": "code",
   "execution_count": 13,
   "id": "98a908d4-5bb1-402c-bbfe-e8522dc94ba8",
   "metadata": {},
   "outputs": [
    {
     "data": {
      "text/plain": [
       "49.67635805549881"
      ]
     },
     "execution_count": 13,
     "metadata": {},
     "output_type": "execute_result"
    }
   ],
   "source": [
    "#Summing the Values in an Array\n",
    "L = np.random.random(100)\n",
    "\n",
    "sum(L) #python's sum function"
   ]
  },
  {
   "cell_type": "code",
   "execution_count": 7,
   "id": "acc71de4-21c7-411f-a8c2-6d623fb393f1",
   "metadata": {},
   "outputs": [
    {
     "data": {
      "text/plain": [
       "48.145269971583105"
      ]
     },
     "execution_count": 7,
     "metadata": {},
     "output_type": "execute_result"
    }
   ],
   "source": [
    "np.sum(L) # numPY's sum function"
   ]
  },
  {
   "cell_type": "code",
   "execution_count": 7,
   "id": "00527e61-d7fc-40f9-a178-a0a135fde83c",
   "metadata": {},
   "outputs": [
    {
     "name": "stdout",
     "output_type": "stream",
     "text": [
      "429 ms ± 4.21 ms per loop (mean ± std. dev. of 7 runs, 1 loop each)\n",
      "4.58 ms ± 113 µs per loop (mean ± std. dev. of 7 runs, 100 loops each)\n"
     ]
    }
   ],
   "source": [
    "big_array = np.random.rand(10000000)\n",
    "%timeit sum(big_array)\n",
    "%timeit np.sum(big_array)\n",
    "\n",
    "\n",
    "#Be careful, though: the sum function and the np.\n",
    "#sum function are not identical, \n",
    "#which can sometimes lead to confusion! \n",
    "#In particular, their optional arguments have different meanings,\n",
    "#and np.sum is aware of multiple array dimensions, \n",
    "#as we will see in the following section."
   ]
  },
  {
   "cell_type": "code",
   "execution_count": 15,
   "id": "7646aa49-9aca-4a70-9664-2b9272ed58a5",
   "metadata": {},
   "outputs": [
    {
     "data": {
      "text/plain": [
       "(1.633734307837642e-07, 0.9999999469323736)"
      ]
     },
     "execution_count": 15,
     "metadata": {},
     "output_type": "execute_result"
    }
   ],
   "source": [
    "#__________________________________________\n",
    "#Minimum and Maximum\n",
    "min(big_array), max(big_array) #python's max and minimum function"
   ]
  },
  {
   "cell_type": "code",
   "execution_count": 16,
   "id": "74d52ca1-46d0-4f2f-8105-8c0ff4983f7c",
   "metadata": {},
   "outputs": [
    {
     "data": {
      "text/plain": [
       "(1.633734307837642e-07, 0.9999999469323736)"
      ]
     },
     "execution_count": 16,
     "metadata": {},
     "output_type": "execute_result"
    }
   ],
   "source": [
    "np.min(big_array), np.max(big_array) #numpy's max and minimum function"
   ]
  },
  {
   "cell_type": "code",
   "execution_count": 17,
   "id": "68093188-941f-4a6d-b8e3-466d18efac42",
   "metadata": {},
   "outputs": [
    {
     "name": "stdout",
     "output_type": "stream",
     "text": [
      "270 ms ± 1.9 ms per loop (mean ± std. dev. of 7 runs, 1 loop each)\n",
      "4.28 ms ± 74.2 µs per loop (mean ± std. dev. of 7 runs, 100 loops each)\n"
     ]
    }
   ],
   "source": [
    "%timeit min(big_array)\n",
    "%timeit np.min(big_array)\n",
    "\n",
    "#__________________________________________"
   ]
  },
  {
   "cell_type": "code",
   "execution_count": 9,
   "id": "bd72ab3c-59d6-4dcd-a5ee-100a91f6f9a5",
   "metadata": {},
   "outputs": [
    {
     "name": "stdout",
     "output_type": "stream",
     "text": [
      "[[0.98139821 0.81819667 0.32693635 0.96908174]\n",
      " [0.46287862 0.3541605  0.32736308 0.7180846 ]\n",
      " [0.49123648 0.97446998 0.0579282  0.87060108]]\n"
     ]
    }
   ],
   "source": [
    "#Multi dimensional aggregates\n",
    "\n",
    "M = np.random.random((3, 4))\n",
    "print(M)"
   ]
  },
  {
   "cell_type": "code",
   "execution_count": 11,
   "id": "66c9d9f2-8d11-4931-b661-ddcd4cc34d2b",
   "metadata": {},
   "outputs": [
    {
     "data": {
      "text/plain": [
       "7.352335517637182"
      ]
     },
     "execution_count": 11,
     "metadata": {},
     "output_type": "execute_result"
    }
   ],
   "source": [
    "M.sum() \n"
   ]
  },
  {
   "cell_type": "code",
   "execution_count": 12,
   "id": "832a8ae0-7e12-4e3c-b6ad-e416d2d1a189",
   "metadata": {},
   "outputs": [
    {
     "data": {
      "text/plain": [
       "array([0.46287862, 0.3541605 , 0.0579282 , 0.7180846 ])"
      ]
     },
     "execution_count": 12,
     "metadata": {},
     "output_type": "execute_result"
    }
   ],
   "source": [
    "M.min(axis=0) #Column wise"
   ]
  },
  {
   "cell_type": "code",
   "execution_count": 13,
   "id": "7e5cf537-a361-4784-8280-672e8721a6d7",
   "metadata": {},
   "outputs": [
    {
     "data": {
      "text/plain": [
       "array([0.98139821, 0.7180846 , 0.97446998])"
      ]
     },
     "execution_count": 13,
     "metadata": {},
     "output_type": "execute_result"
    }
   ],
   "source": [
    "M.max(axis=1) #Row wise\n",
    "\n",
    "#axis = 0 indicates Column wise\n",
    "#axis = 1 indicates row wise\n",
    "#__________________________________________________"
   ]
  },
  {
   "cell_type": "code",
   "execution_count": 4,
   "id": "0c25f0cf-2e0c-4a93-81ac-73d6ffb37699",
   "metadata": {},
   "outputs": [
    {
     "name": "stdout",
     "output_type": "stream",
     "text": [
      "﻿Index,Height(Inches),Weight(Pounds)\n",
      "1,65.78331,112.9925\n",
      "2,71.51521,136.4873\n",
      "3,69.39874,153.0269\n",
      "4,68.2166,142.3354\n",
      "5,67.78781,144.2971\n",
      "6,68.69784,123.3024\n",
      "7,69.80204,141.4947\n",
      "8,70.01472,136.4623\n",
      "9,67.90265,112.3723\n"
     ]
    }
   ],
   "source": [
    "#Example: What is the Average Height of US Presidents?\n",
    "!head /home/jozewin/Downloads/Jupyter-notebook/SOCR-HeightWeight.csv"
   ]
  },
  {
   "cell_type": "code",
   "execution_count": 8,
   "id": "d360eb0a-67e0-469f-a98c-ef7f1579fbaf",
   "metadata": {},
   "outputs": [
    {
     "name": "stdout",
     "output_type": "stream",
     "text": [
      "[65.78331 71.51521 69.39874 ... 64.69855 67.52918 68.87761]\n"
     ]
    }
   ],
   "source": [
    "import pandas as pd\n",
    "data = pd.read_csv('/home/jozewin/Downloads/Jupyter-notebook/SOCR-HeightWeight.csv')\n",
    "heights = np.array(data['Height(Inches)'])\n",
    "print(heights)\n"
   ]
  },
  {
   "cell_type": "code",
   "execution_count": 9,
   "id": "880a7af8-382f-4a24-b718-bae07f2c3a51",
   "metadata": {},
   "outputs": [
    {
     "name": "stdout",
     "output_type": "stream",
     "text": [
      "Mean height:        67.99311359679999\n",
      "Standard deviation: 1.9016407372498432\n",
      "Minimum height:     60.27836\n",
      "Maximum height:     75.1528\n"
     ]
    }
   ],
   "source": [
    "\n",
    "\n",
    "print(\"Mean height:       \", heights.mean())\n",
    "print(\"Standard deviation:\", heights.std())\n",
    "print(\"Minimum height:    \", heights.min())\n",
    "print(\"Maximum height:    \", heights.max())\n",
    "\n"
   ]
  },
  {
   "cell_type": "code",
   "execution_count": 2,
   "id": "de2e7af1-1eb4-4392-be5d-35102d11be61",
   "metadata": {},
   "outputs": [],
   "source": [
    "\n",
    "\n",
    "%matplotlib inline\n",
    "import matplotlib.pyplot as plt\n",
    "import seaborn; seaborn.set()  # set plot style\n",
    "\n"
   ]
  },
  {
   "cell_type": "code",
   "execution_count": null,
   "id": "ef32eb75-f7a5-4c88-b7b0-07e9ccbfb633",
   "metadata": {},
   "outputs": [],
   "source": []
  },
  {
   "cell_type": "code",
   "execution_count": 4,
   "id": "b62fe1e0-379d-480d-a2ba-a5ce7e889719",
   "metadata": {},
   "outputs": [
    {
     "data": {
      "image/png": "[encoded data removed]",
      "text/plain": [
       "<Figure size 640x480 with 1 Axes>"
      ]
     },
     "metadata": {},
     "output_type": "display_data"
    }
   ],
   "source": [
    "\n",
    "\n",
    "plt.hist(\"heights\")\n",
    "plt.title('Height Distribution of Random Dataset')\n",
    "plt.xlabel('height (cm)')\n",
    "plt.ylabel('number');\n",
    "\n"
   ]
  },
  {
   "cell_type": "code",
   "execution_count": null,
   "id": "a6f90570-6baa-45b7-8338-b9d901a00e93",
   "metadata": {},
   "outputs": [],
   "source": []
  },
  {
   "cell_type": "code",
   "execution_count": null,
   "id": "3731edda-cf88-4531-a380-443d8a3b6cb9",
   "metadata": {},
   "outputs": [],
   "source": []
  },
  {
   "cell_type": "code",
   "execution_count": null,
   "id": "14958e19-0611-4d66-965a-c35026707144",
   "metadata": {},
   "outputs": [],
   "source": []
  }
 ],
 "metadata": {
  "kernelspec": {
   "display_name": "Python 3 (ipykernel)",
   "language": "python",
   "name": "python3"
  },
  "language_info": {
   "codemirror_mode": {
    "name": "ipython",
    "version": 3
   },
   "file_extension": ".py",
   "mimetype": "text/x-python",
   "name": "python",
   "nbconvert_exporter": "python",
   "pygments_lexer": "ipython3",
   "version": "3.10.12"
  }
 },
 "nbformat": 4,
 "nbformat_minor": 5
}
